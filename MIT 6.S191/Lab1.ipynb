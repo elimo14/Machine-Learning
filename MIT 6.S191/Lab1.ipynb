{
  "cells": [
    {
      "cell_type": "code",
      "source": [
        "!git clone https://github.com/yala/introdeeplearning  # Clone the full repo\n",
        "%cd introdeeplearning  # Move into the repo directory"
      ],
      "metadata": {
        "colab": {
          "base_uri": "https://localhost:8080/"
        },
        "id": "Kh0mQNfD6flp",
        "outputId": "3a6792a7-be62-4920-e2d1-18d4cef4c018"
      },
      "execution_count": 4,
      "outputs": [
        {
          "output_type": "stream",
          "name": "stdout",
          "text": [
            "Cloning into 'introdeeplearning'...\n",
            "remote: Enumerating objects: 244, done.\u001b[K\n",
            "remote: Total 244 (delta 0), reused 0 (delta 0), pack-reused 244 (from 1)\u001b[K\n",
            "Receiving objects: 100% (244/244), 23.44 MiB | 10.78 MiB/s, done.\n",
            "Resolving deltas: 100% (125/125), done.\n",
            "[Errno 2] No such file or directory: 'introdeeplearning # Move into the repo directory'\n",
            "/content\n"
          ]
        }
      ]
    },
    {
      "cell_type": "code",
      "source": [
        "!pip install tensorflow matplotlib pandas  # Install required packages"
      ],
      "metadata": {
        "colab": {
          "base_uri": "https://localhost:8080/"
        },
        "id": "p8devv8W7vc5",
        "outputId": "3cf75d8b-d676-4d95-bb0a-d98ab2a0dd25"
      },
      "execution_count": 5,
      "outputs": [
        {
          "output_type": "stream",
          "name": "stdout",
          "text": [
            "Requirement already satisfied: tensorflow in /usr/local/lib/python3.11/dist-packages (2.18.0)\n",
            "Requirement already satisfied: matplotlib in /usr/local/lib/python3.11/dist-packages (3.10.0)\n",
            "Requirement already satisfied: pandas in /usr/local/lib/python3.11/dist-packages (2.2.2)\n",
            "Requirement already satisfied: absl-py>=1.0.0 in /usr/local/lib/python3.11/dist-packages (from tensorflow) (1.4.0)\n",
            "Requirement already satisfied: astunparse>=1.6.0 in /usr/local/lib/python3.11/dist-packages (from tensorflow) (1.6.3)\n",
            "Requirement already satisfied: flatbuffers>=24.3.25 in /usr/local/lib/python3.11/dist-packages (from tensorflow) (25.2.10)\n",
            "Requirement already satisfied: gast!=0.5.0,!=0.5.1,!=0.5.2,>=0.2.1 in /usr/local/lib/python3.11/dist-packages (from tensorflow) (0.6.0)\n",
            "Requirement already satisfied: google-pasta>=0.1.1 in /usr/local/lib/python3.11/dist-packages (from tensorflow) (0.2.0)\n",
            "Requirement already satisfied: libclang>=13.0.0 in /usr/local/lib/python3.11/dist-packages (from tensorflow) (18.1.1)\n",
            "Requirement already satisfied: opt-einsum>=2.3.2 in /usr/local/lib/python3.11/dist-packages (from tensorflow) (3.4.0)\n",
            "Requirement already satisfied: packaging in /usr/local/lib/python3.11/dist-packages (from tensorflow) (24.2)\n",
            "Requirement already satisfied: protobuf!=4.21.0,!=4.21.1,!=4.21.2,!=4.21.3,!=4.21.4,!=4.21.5,<6.0.0dev,>=3.20.3 in /usr/local/lib/python3.11/dist-packages (from tensorflow) (5.29.5)\n",
            "Requirement already satisfied: requests<3,>=2.21.0 in /usr/local/lib/python3.11/dist-packages (from tensorflow) (2.32.3)\n",
            "Requirement already satisfied: setuptools in /usr/local/lib/python3.11/dist-packages (from tensorflow) (75.2.0)\n",
            "Requirement already satisfied: six>=1.12.0 in /usr/local/lib/python3.11/dist-packages (from tensorflow) (1.17.0)\n",
            "Requirement already satisfied: termcolor>=1.1.0 in /usr/local/lib/python3.11/dist-packages (from tensorflow) (3.1.0)\n",
            "Requirement already satisfied: typing-extensions>=3.6.6 in /usr/local/lib/python3.11/dist-packages (from tensorflow) (4.13.2)\n",
            "Requirement already satisfied: wrapt>=1.11.0 in /usr/local/lib/python3.11/dist-packages (from tensorflow) (1.17.2)\n",
            "Requirement already satisfied: grpcio<2.0,>=1.24.3 in /usr/local/lib/python3.11/dist-packages (from tensorflow) (1.71.0)\n",
            "Requirement already satisfied: tensorboard<2.19,>=2.18 in /usr/local/lib/python3.11/dist-packages (from tensorflow) (2.18.0)\n",
            "Requirement already satisfied: keras>=3.5.0 in /usr/local/lib/python3.11/dist-packages (from tensorflow) (3.8.0)\n",
            "Requirement already satisfied: numpy<2.1.0,>=1.26.0 in /usr/local/lib/python3.11/dist-packages (from tensorflow) (2.0.2)\n",
            "Requirement already satisfied: h5py>=3.11.0 in /usr/local/lib/python3.11/dist-packages (from tensorflow) (3.13.0)\n",
            "Requirement already satisfied: ml-dtypes<0.5.0,>=0.4.0 in /usr/local/lib/python3.11/dist-packages (from tensorflow) (0.4.1)\n",
            "Requirement already satisfied: tensorflow-io-gcs-filesystem>=0.23.1 in /usr/local/lib/python3.11/dist-packages (from tensorflow) (0.37.1)\n",
            "Requirement already satisfied: contourpy>=1.0.1 in /usr/local/lib/python3.11/dist-packages (from matplotlib) (1.3.2)\n",
            "Requirement already satisfied: cycler>=0.10 in /usr/local/lib/python3.11/dist-packages (from matplotlib) (0.12.1)\n",
            "Requirement already satisfied: fonttools>=4.22.0 in /usr/local/lib/python3.11/dist-packages (from matplotlib) (4.58.1)\n",
            "Requirement already satisfied: kiwisolver>=1.3.1 in /usr/local/lib/python3.11/dist-packages (from matplotlib) (1.4.8)\n",
            "Requirement already satisfied: pillow>=8 in /usr/local/lib/python3.11/dist-packages (from matplotlib) (11.2.1)\n",
            "Requirement already satisfied: pyparsing>=2.3.1 in /usr/local/lib/python3.11/dist-packages (from matplotlib) (3.2.3)\n",
            "Requirement already satisfied: python-dateutil>=2.7 in /usr/local/lib/python3.11/dist-packages (from matplotlib) (2.9.0.post0)\n",
            "Requirement already satisfied: pytz>=2020.1 in /usr/local/lib/python3.11/dist-packages (from pandas) (2025.2)\n",
            "Requirement already satisfied: tzdata>=2022.7 in /usr/local/lib/python3.11/dist-packages (from pandas) (2025.2)\n",
            "Requirement already satisfied: wheel<1.0,>=0.23.0 in /usr/local/lib/python3.11/dist-packages (from astunparse>=1.6.0->tensorflow) (0.45.1)\n",
            "Requirement already satisfied: rich in /usr/local/lib/python3.11/dist-packages (from keras>=3.5.0->tensorflow) (13.9.4)\n",
            "Requirement already satisfied: namex in /usr/local/lib/python3.11/dist-packages (from keras>=3.5.0->tensorflow) (0.1.0)\n",
            "Requirement already satisfied: optree in /usr/local/lib/python3.11/dist-packages (from keras>=3.5.0->tensorflow) (0.16.0)\n",
            "Requirement already satisfied: charset-normalizer<4,>=2 in /usr/local/lib/python3.11/dist-packages (from requests<3,>=2.21.0->tensorflow) (3.4.2)\n",
            "Requirement already satisfied: idna<4,>=2.5 in /usr/local/lib/python3.11/dist-packages (from requests<3,>=2.21.0->tensorflow) (3.10)\n",
            "Requirement already satisfied: urllib3<3,>=1.21.1 in /usr/local/lib/python3.11/dist-packages (from requests<3,>=2.21.0->tensorflow) (2.4.0)\n",
            "Requirement already satisfied: certifi>=2017.4.17 in /usr/local/lib/python3.11/dist-packages (from requests<3,>=2.21.0->tensorflow) (2025.4.26)\n",
            "Requirement already satisfied: markdown>=2.6.8 in /usr/local/lib/python3.11/dist-packages (from tensorboard<2.19,>=2.18->tensorflow) (3.8)\n",
            "Requirement already satisfied: tensorboard-data-server<0.8.0,>=0.7.0 in /usr/local/lib/python3.11/dist-packages (from tensorboard<2.19,>=2.18->tensorflow) (0.7.2)\n",
            "Requirement already satisfied: werkzeug>=1.0.1 in /usr/local/lib/python3.11/dist-packages (from tensorboard<2.19,>=2.18->tensorflow) (3.1.3)\n",
            "Requirement already satisfied: MarkupSafe>=2.1.1 in /usr/local/lib/python3.11/dist-packages (from werkzeug>=1.0.1->tensorboard<2.19,>=2.18->tensorflow) (3.0.2)\n",
            "Requirement already satisfied: markdown-it-py>=2.2.0 in /usr/local/lib/python3.11/dist-packages (from rich->keras>=3.5.0->tensorflow) (3.0.0)\n",
            "Requirement already satisfied: pygments<3.0.0,>=2.13.0 in /usr/local/lib/python3.11/dist-packages (from rich->keras>=3.5.0->tensorflow) (2.19.1)\n",
            "Requirement already satisfied: mdurl~=0.1 in /usr/local/lib/python3.11/dist-packages (from markdown-it-py>=2.2.0->rich->keras>=3.5.0->tensorflow) (0.1.2)\n"
          ]
        }
      ]
    },
    {
      "cell_type": "code",
      "source": [
        "from google.colab import files\n",
        "uploaded = files.upload()  # Upload lab1_utils.py manually"
      ],
      "metadata": {
        "colab": {
          "base_uri": "https://localhost:8080/",
          "height": 179
        },
        "id": "oPJ_DZbv81p6",
        "outputId": "e7bbec1d-9c2a-4e81-a115-0d1b545187d1"
      },
      "execution_count": 6,
      "outputs": [
        {
          "output_type": "display_data",
          "data": {
            "text/plain": [
              "<IPython.core.display.HTML object>"
            ],
            "text/html": [
              "\n",
              "     <input type=\"file\" id=\"files-98e8d068-03b1-463e-be13-d585590c20fc\" name=\"files[]\" multiple disabled\n",
              "        style=\"border:none\" />\n",
              "     <output id=\"result-98e8d068-03b1-463e-be13-d585590c20fc\">\n",
              "      Upload widget is only available when the cell has been executed in the\n",
              "      current browser session. Please rerun this cell to enable.\n",
              "      </output>\n",
              "      <script>// Copyright 2017 Google LLC\n",
              "//\n",
              "// Licensed under the Apache License, Version 2.0 (the \"License\");\n",
              "// you may not use this file except in compliance with the License.\n",
              "// You may obtain a copy of the License at\n",
              "//\n",
              "//      http://www.apache.org/licenses/LICENSE-2.0\n",
              "//\n",
              "// Unless required by applicable law or agreed to in writing, software\n",
              "// distributed under the License is distributed on an \"AS IS\" BASIS,\n",
              "// WITHOUT WARRANTIES OR CONDITIONS OF ANY KIND, either express or implied.\n",
              "// See the License for the specific language governing permissions and\n",
              "// limitations under the License.\n",
              "\n",
              "/**\n",
              " * @fileoverview Helpers for google.colab Python module.\n",
              " */\n",
              "(function(scope) {\n",
              "function span(text, styleAttributes = {}) {\n",
              "  const element = document.createElement('span');\n",
              "  element.textContent = text;\n",
              "  for (const key of Object.keys(styleAttributes)) {\n",
              "    element.style[key] = styleAttributes[key];\n",
              "  }\n",
              "  return element;\n",
              "}\n",
              "\n",
              "// Max number of bytes which will be uploaded at a time.\n",
              "const MAX_PAYLOAD_SIZE = 100 * 1024;\n",
              "\n",
              "function _uploadFiles(inputId, outputId) {\n",
              "  const steps = uploadFilesStep(inputId, outputId);\n",
              "  const outputElement = document.getElementById(outputId);\n",
              "  // Cache steps on the outputElement to make it available for the next call\n",
              "  // to uploadFilesContinue from Python.\n",
              "  outputElement.steps = steps;\n",
              "\n",
              "  return _uploadFilesContinue(outputId);\n",
              "}\n",
              "\n",
              "// This is roughly an async generator (not supported in the browser yet),\n",
              "// where there are multiple asynchronous steps and the Python side is going\n",
              "// to poll for completion of each step.\n",
              "// This uses a Promise to block the python side on completion of each step,\n",
              "// then passes the result of the previous step as the input to the next step.\n",
              "function _uploadFilesContinue(outputId) {\n",
              "  const outputElement = document.getElementById(outputId);\n",
              "  const steps = outputElement.steps;\n",
              "\n",
              "  const next = steps.next(outputElement.lastPromiseValue);\n",
              "  return Promise.resolve(next.value.promise).then((value) => {\n",
              "    // Cache the last promise value to make it available to the next\n",
              "    // step of the generator.\n",
              "    outputElement.lastPromiseValue = value;\n",
              "    return next.value.response;\n",
              "  });\n",
              "}\n",
              "\n",
              "/**\n",
              " * Generator function which is called between each async step of the upload\n",
              " * process.\n",
              " * @param {string} inputId Element ID of the input file picker element.\n",
              " * @param {string} outputId Element ID of the output display.\n",
              " * @return {!Iterable<!Object>} Iterable of next steps.\n",
              " */\n",
              "function* uploadFilesStep(inputId, outputId) {\n",
              "  const inputElement = document.getElementById(inputId);\n",
              "  inputElement.disabled = false;\n",
              "\n",
              "  const outputElement = document.getElementById(outputId);\n",
              "  outputElement.innerHTML = '';\n",
              "\n",
              "  const pickedPromise = new Promise((resolve) => {\n",
              "    inputElement.addEventListener('change', (e) => {\n",
              "      resolve(e.target.files);\n",
              "    });\n",
              "  });\n",
              "\n",
              "  const cancel = document.createElement('button');\n",
              "  inputElement.parentElement.appendChild(cancel);\n",
              "  cancel.textContent = 'Cancel upload';\n",
              "  const cancelPromise = new Promise((resolve) => {\n",
              "    cancel.onclick = () => {\n",
              "      resolve(null);\n",
              "    };\n",
              "  });\n",
              "\n",
              "  // Wait for the user to pick the files.\n",
              "  const files = yield {\n",
              "    promise: Promise.race([pickedPromise, cancelPromise]),\n",
              "    response: {\n",
              "      action: 'starting',\n",
              "    }\n",
              "  };\n",
              "\n",
              "  cancel.remove();\n",
              "\n",
              "  // Disable the input element since further picks are not allowed.\n",
              "  inputElement.disabled = true;\n",
              "\n",
              "  if (!files) {\n",
              "    return {\n",
              "      response: {\n",
              "        action: 'complete',\n",
              "      }\n",
              "    };\n",
              "  }\n",
              "\n",
              "  for (const file of files) {\n",
              "    const li = document.createElement('li');\n",
              "    li.append(span(file.name, {fontWeight: 'bold'}));\n",
              "    li.append(span(\n",
              "        `(${file.type || 'n/a'}) - ${file.size} bytes, ` +\n",
              "        `last modified: ${\n",
              "            file.lastModifiedDate ? file.lastModifiedDate.toLocaleDateString() :\n",
              "                                    'n/a'} - `));\n",
              "    const percent = span('0% done');\n",
              "    li.appendChild(percent);\n",
              "\n",
              "    outputElement.appendChild(li);\n",
              "\n",
              "    const fileDataPromise = new Promise((resolve) => {\n",
              "      const reader = new FileReader();\n",
              "      reader.onload = (e) => {\n",
              "        resolve(e.target.result);\n",
              "      };\n",
              "      reader.readAsArrayBuffer(file);\n",
              "    });\n",
              "    // Wait for the data to be ready.\n",
              "    let fileData = yield {\n",
              "      promise: fileDataPromise,\n",
              "      response: {\n",
              "        action: 'continue',\n",
              "      }\n",
              "    };\n",
              "\n",
              "    // Use a chunked sending to avoid message size limits. See b/62115660.\n",
              "    let position = 0;\n",
              "    do {\n",
              "      const length = Math.min(fileData.byteLength - position, MAX_PAYLOAD_SIZE);\n",
              "      const chunk = new Uint8Array(fileData, position, length);\n",
              "      position += length;\n",
              "\n",
              "      const base64 = btoa(String.fromCharCode.apply(null, chunk));\n",
              "      yield {\n",
              "        response: {\n",
              "          action: 'append',\n",
              "          file: file.name,\n",
              "          data: base64,\n",
              "        },\n",
              "      };\n",
              "\n",
              "      let percentDone = fileData.byteLength === 0 ?\n",
              "          100 :\n",
              "          Math.round((position / fileData.byteLength) * 100);\n",
              "      percent.textContent = `${percentDone}% done`;\n",
              "\n",
              "    } while (position < fileData.byteLength);\n",
              "  }\n",
              "\n",
              "  // All done.\n",
              "  yield {\n",
              "    response: {\n",
              "      action: 'complete',\n",
              "    }\n",
              "  };\n",
              "}\n",
              "\n",
              "scope.google = scope.google || {};\n",
              "scope.google.colab = scope.google.colab || {};\n",
              "scope.google.colab._files = {\n",
              "  _uploadFiles,\n",
              "  _uploadFilesContinue,\n",
              "};\n",
              "})(self);\n",
              "</script> "
            ]
          },
          "metadata": {}
        },
        {
          "output_type": "stream",
          "name": "stdout",
          "text": [
            "Saving lab1_utils.py to lab1_utils (1).py\n",
            "Saving preprocessing.py to preprocessing.py\n",
            "Saving special_tokens.py to special_tokens.py\n",
            "Saving utils.py to utils.py\n"
          ]
        }
      ]
    },
    {
      "cell_type": "code",
      "execution_count": 25,
      "metadata": {
        "id": "y6lJSQHu6CTn"
      },
      "outputs": [],
      "source": [
        "import pickle as p\n",
        "import numpy as np\n",
        "import tensorflow as tf\n",
        "import random\n",
        "import lab1_utils as utils\n",
        "import tensorflow as tf\n",
        "import numpy as np\n",
        "import matplotlib.pyplot as plt\n",
        "\n",
        "%matplotlib inline"
      ]
    },
    {
      "cell_type": "markdown",
      "metadata": {
        "id": "ZLhe6uHa6CTp"
      },
      "source": [
        "# Intro to TensorFlow\n",
        "\n",
        "## What is a Computation Graph?\n",
        "\n",
        "Everything in TensorFlow comes down to building a computation graph. What is a computation graph? Its just a series of math operations that occur in some order. Here is an example of a simple computation graph:\n",
        "\n",
        "<img src=\"files/computation-graph.png\">\n",
        "\n",
        "This graph takes 2 inputs, (a, b) and computes an output (e). Each node in the graph is an operation that takes some input, does some computation, and passes its output to another node.\n",
        "\n",
        "We could make this computation graph in TensorFlow in the following way:"
      ]
    },
    {
      "cell_type": "code",
      "source": [
        "import tensorflow.compat.v1 as tf\n",
        "tf.disable_v2_behavior()  # Disable TF2 eager execution"
      ],
      "metadata": {
        "colab": {
          "base_uri": "https://localhost:8080/"
        },
        "id": "vEI6mSOW-3rP",
        "outputId": "9c0398d3-bbf9-40d8-d7d8-5c2b6b6d842c"
      },
      "execution_count": 11,
      "outputs": [
        {
          "output_type": "stream",
          "name": "stderr",
          "text": [
            "WARNING:tensorflow:From /usr/local/lib/python3.11/dist-packages/tensorflow/python/compat/v2_compat.py:98: disable_resource_variables (from tensorflow.python.ops.resource_variables_toggle) is deprecated and will be removed in a future version.\n",
            "Instructions for updating:\n",
            "non-resource variables are not supported in the long term\n"
          ]
        }
      ]
    },
    {
      "cell_type": "code",
      "execution_count": 12,
      "metadata": {
        "id": "RTV3sbML6CTs"
      },
      "outputs": [],
      "source": [
        "a = tf.placeholder(tf.float32)\n",
        "b = tf.placeholder(tf.float32)\n",
        "c = tf.add(a, b)\n",
        "d = tf.subtract(b, 1)\n",
        "e = tf.multiply(c, d)\n"
      ]
    },
    {
      "cell_type": "markdown",
      "metadata": {
        "id": "eO9UOQ8b6CTt"
      },
      "source": [
        "Tensorflow uses tf.placeholder to handle inputs to the model. This is like making a reservation at a restaurant. The restaurant reserves a spot for 5 people, but you are free to fill those seats with any set of friends you want to. tf.placeholder lets you specify that some input will be coming in, of some shape and some type. Only when you run the computation graph do you actually provide the values of this input data. You would run this simple computation graph like this:"
      ]
    },
    {
      "cell_type": "code",
      "execution_count": 13,
      "metadata": {
        "colab": {
          "base_uri": "https://localhost:8080/"
        },
        "id": "3Q60svoh6CTu",
        "outputId": "ff556fe1-8249-475d-a1ab-37f4faf16fc2"
      },
      "outputs": [
        {
          "output_type": "stream",
          "name": "stdout",
          "text": [
            "[np.float32(45.0)]\n"
          ]
        }
      ],
      "source": [
        "with tf.Session() as session:\n",
        "    a_data, b_data = 3.0, 6.0\n",
        "    feed_dict = {a: a_data, b: b_data}\n",
        "    output = session.run([e], feed_dict=feed_dict)\n",
        "    print(output) # 45.0"
      ]
    },
    {
      "cell_type": "markdown",
      "metadata": {
        "id": "6X4zU0U26CTv"
      },
      "source": [
        "We use feed_dict to pass in the actual input data into the graph. We use session.run to get the output from the c operation in the graph. Since e is at the end of the graph, this ends up running the entire graph and returning the number 45 - cool!"
      ]
    },
    {
      "cell_type": "markdown",
      "metadata": {
        "collapsed": true,
        "id": "045A1sCS6CTv"
      },
      "source": [
        "## Neural Networks in Tensorflow\n",
        "\n",
        "We can define neural networks in TensorFlow using computation graphs. Here is an example, very simple neural network (just 1 perceptron):\n",
        "\n",
        "<img src=\"files/computation-graph-2.png\">\n",
        "\n",
        "This graph takes an input, (x) and computes an output (out). It does it with what we learned in class, `out = sigmoid(W*x+b)`.\n",
        "\n",
        "We could make this computation graph in TensorFlow in the following way:"
      ]
    },
    {
      "cell_type": "code",
      "execution_count": 14,
      "metadata": {
        "id": "5oBqLhvi6CTw"
      },
      "outputs": [],
      "source": [
        "n_input_nodes = 2\n",
        "n_output_nodes = 1\n",
        "x = tf.placeholder(tf.float32, (None, n_input_nodes))\n",
        "W = tf.Variable(tf.ones((n_input_nodes, n_output_nodes)), dtype=tf.float32)\n",
        "b = tf.Variable(tf.zeros(n_output_nodes), dtype=tf.float32)\n",
        "\n",
        "'''TODO: Define the operation for z (use tf.matmul to multiply W and x).'''\n",
        "z = tf.matmul(x, W) + b\n",
        "\n",
        "'''TODO: Define the operation for out (use tf.sigmoid).'''\n",
        "out = tf.sigmoid(z)"
      ]
    },
    {
      "cell_type": "markdown",
      "metadata": {
        "id": "5xwRHMae6CTx"
      },
      "source": [
        "To run this graph, we again use session.run() and feed in our input via feed_dict."
      ]
    },
    {
      "cell_type": "code",
      "execution_count": 15,
      "metadata": {
        "colab": {
          "base_uri": "https://localhost:8080/"
        },
        "id": "IRHbeL0i6CTy",
        "outputId": "4f72650c-a721-47db-9dec-2843f45e294b"
      },
      "outputs": [
        {
          "output_type": "stream",
          "name": "stdout",
          "text": [
            "[[0.7310586]]\n"
          ]
        }
      ],
      "source": [
        "test_input = [[0.5, 0.5]]\n",
        "with tf.Session() as session:\n",
        "    tf.global_variables_initializer().run(session=session)\n",
        "    feed_dict = {x: test_input}\n",
        "    output = session.run([out], feed_dict=feed_dict)\n",
        "    print(output[0]) # This should output 0.73105. If not, double-check your code above"
      ]
    },
    {
      "cell_type": "markdown",
      "metadata": {
        "id": "-CcOZdxP6CTz"
      },
      "source": [
        "We can also set the value of a tf.Variable when we make it. Below is an example where we set the value of tf.Variable ourselves. We've made a classification dataset for you to play around with, and see how the decision boundary changes with the model parameters (weights and bias). Try to get all the datapoints correct (green)!"
      ]
    },
    {
      "cell_type": "code",
      "source": [
        "'''TODO: manually optimize weight_values and bias_value to classify points'''\n",
        "\n",
        "# Modify weight_values, bias_value in the above code to adjust the decision boundary\n",
        "# See if you can classify all the points correctly (all markers green)\n",
        "\n",
        "weight_values = np.array([[-0.1], [0.2]]) # TODO change values and re-run\n",
        "bias_value = np.array([[0.5]]) #TODO change values and re-run\n",
        "\n",
        "# A pretty good boundary is made with:\n",
        "# weight_values = np.array([[0.03], [0.12]])\n",
        "# bias_value = np.array([[-0.5]])\n",
        "\n",
        "x = tf.placeholder(tf.float32, (None, 2), name='x')\n",
        "W = tf.Variable(weight_values, name='W', dtype=tf.float32)\n",
        "b = tf.Variable(bias_value, name='b', dtype=tf.float32)\n",
        "z = tf.matmul(x, W) + b\n",
        "out = tf.sigmoid(z)\n",
        "\n",
        "data = np.array([[2, 7], [1, 7], [3, 1], [3, 3], [4, 3], [4, 6], [6, 5], [7, 7], [7, 5], [2, 4], [2, 2]])\n",
        "y = np.array([1, 1, 0, 0, 0, 1, 1, 1, 1, 0, 0])\n",
        "with tf.Session() as session:\n",
        "    tf.global_variables_initializer().run(session=session)\n",
        "    utils.classify_and_plot(data, y, x, out, session)"
      ],
      "metadata": {
        "colab": {
          "base_uri": "https://localhost:8080/",
          "height": 886
        },
        "id": "Rz3iJfIOCK9f",
        "outputId": "c83f63eb-82c7-4b29-ae15-73d6effaf2c9"
      },
      "execution_count": 17,
      "outputs": [
        {
          "output_type": "display_data",
          "data": {
            "text/plain": [
              "<Figure size 640x480 with 1 Axes>"
            ],
            "image/png": "[encoded data removed]"
          },
          "metadata": {}
        },
        {
          "output_type": "display_data",
          "data": {
            "text/plain": [
              "<Figure size 640x480 with 1 Axes>"
            ],
            "image/png": "[encoded data removed]"
          },
          "metadata": {}
        },
        {
          "output_type": "stream",
          "name": "stdout",
          "text": [
            "predictions [array([[0.84553474]], dtype=float32), array([[0.85814893]], dtype=float32), array([[0.59868765]], dtype=float32), array([[0.6899745]], dtype=float32), array([[0.6681878]], dtype=float32), array([[0.78583497]], dtype=float32), array([[0.7109495]], dtype=float32), array([[0.76852477]], dtype=float32), array([[0.6899745]], dtype=float32), array([[0.7502601]], dtype=float32), array([[0.6681878]], dtype=float32)]\n"
          ]
        }
      ]
    },
    {
      "cell_type": "code",
      "source": [
        "'''TODO: manually optimize weight_values and bias_value to classify points'''\n",
        "\n",
        "# Modified\n",
        "\n",
        "weight_values = np.array([[0.01], [0.12]])  # [weight_for_x1, weight_for_x2]\n",
        "bias_value = np.array([[-0.5]])            # bias term\n",
        "\n",
        "\n",
        "x = tf.placeholder(tf.float32, (None, 2), name='x')\n",
        "W = tf.Variable(weight_values, name='W', dtype=tf.float32)\n",
        "b = tf.Variable(bias_value, name='b', dtype=tf.float32)\n",
        "z = tf.matmul(x, W) + b\n",
        "out = tf.sigmoid(z)\n",
        "\n",
        "data = np.array([[2, 7], [1, 7], [3, 1], [3, 3], [4, 3], [4, 6], [6, 5], [7, 7], [7, 5], [2, 4], [2, 2]])\n",
        "y = np.array([1, 1, 0, 0, 0, 1, 1, 1, 1, 0, 0])\n",
        "with tf.Session() as session:\n",
        "    tf.global_variables_initializer().run(session=session)\n",
        "    utils.classify_and_plot(data, y, x, out, session)\n"
      ],
      "metadata": {
        "colab": {
          "base_uri": "https://localhost:8080/",
          "height": 886
        },
        "id": "OMVVjFWeCeh6",
        "outputId": "337187a5-281e-460f-c3f8-73b1af32451f"
      },
      "execution_count": 23,
      "outputs": [
        {
          "output_type": "display_data",
          "data": {
            "text/plain": [
              "<Figure size 640x480 with 1 Axes>"
            ],
            "image/png": "[encoded data removed]"
          },
          "metadata": {}
        },
        {
          "output_type": "display_data",
          "data": {
            "text/plain": [
              "<Figure size 640x480 with 1 Axes>"
            ],
            "image/png": "[encoded data removed]"
          },
          "metadata": {}
        },
        {
          "output_type": "stream",
          "name": "stdout",
          "text": [
            "predictions [array([[0.5890404]], dtype=float32), array([[0.5866176]], dtype=float32), array([[0.4133824]], dtype=float32), array([[0.47252768]], dtype=float32), array([[0.4750208]], dtype=float32), array([[0.5646363]], dtype=float32), array([[0.53991485]], dtype=float32), array([[0.6010878]], dtype=float32), array([[0.542398]], dtype=float32), array([[0.5]], dtype=float32), array([[0.44028637]], dtype=float32)]\n"
          ]
        }
      ]
    },
    {
      "cell_type": "markdown",
      "metadata": {
        "id": "_JwB7q2n6CTz"
      },
      "source": [
        "## Tweet Sentiment Analysis"
      ]
    },
    {
      "cell_type": "markdown",
      "metadata": {
        "id": "5LtvItgK6CT0"
      },
      "source": [
        "Let's move to a real-world task. We're going to be classifying tweets as positive, negative, or neutral. Check out the very negative tweet below:"
      ]
    },
    {
      "cell_type": "markdown",
      "metadata": {
        "id": "iPLKAcP76CT0"
      },
      "source": [
        "<img src=\"files/tweet-model.jpg\" style=\"width: 500px;\">\n"
      ]
    },
    {
      "cell_type": "markdown",
      "metadata": {
        "id": "Me8t4aWU6CT0"
      },
      "source": [
        "## Building the Model\n",
        "\n",
        "### Building an MLP\n",
        "\n",
        "MLP or Multi-layer perceptron is a basic archetecture where where we multiply our representation with some matrix `W` and add some bias `b` and then apply some nonlinearity like `tanh` at each layer. Layers are fully connected to the next. As the network gets deeper, it's expressive power grows exponentially and so they can draw some pretty fancy decision boundaries. In this exercise, you'll build your own MLP, with 2 hidden layers (layers that aren't input or output).\n",
        "\n",
        "To make training more stable and efficient, we'll actually evaluate 128 tweets at a time, and take gradients with respect to the loss on the 128. We call this idea **training with mini-batches**.\n",
        "\n",
        "### Step 1: Representing Words\n",
        "\n",
        "In this model, we’ll be representing tweets as [bag-of-words](https://en.wikipedia.org/wiki/Bag-of-words_model) (BOW) representations. BOW representations are vectors where each element index represents a different word and its value represents the number of times this word appears in our sentence. This means that each sentence will be represented by a vector that is vocab_size long. Our output labels will be represented as a vector of size n_classes (3). We get this data with some utility functions:"
      ]
    },
    {
      "cell_type": "code",
      "source": [
        "from google.colab import files\n",
        "uploaded = files.upload()  # Upload sentiment-tweets.csv"
      ],
      "metadata": {
        "colab": {
          "base_uri": "https://localhost:8080/",
          "height": 73
        },
        "id": "iT7oHzgfFCMh",
        "outputId": "ebc66d5e-723e-42c3-859d-58b340eefd1a"
      },
      "execution_count": 27,
      "outputs": [
        {
          "output_type": "display_data",
          "data": {
            "text/plain": [
              "<IPython.core.display.HTML object>"
            ],
            "text/html": [
              "\n",
              "     <input type=\"file\" id=\"files-24faa057-b73b-4256-a012-6d0ef742be01\" name=\"files[]\" multiple disabled\n",
              "        style=\"border:none\" />\n",
              "     <output id=\"result-24faa057-b73b-4256-a012-6d0ef742be01\">\n",
              "      Upload widget is only available when the cell has been executed in the\n",
              "      current browser session. Please rerun this cell to enable.\n",
              "      </output>\n",
              "      <script>// Copyright 2017 Google LLC\n",
              "//\n",
              "// Licensed under the Apache License, Version 2.0 (the \"License\");\n",
              "// you may not use this file except in compliance with the License.\n",
              "// You may obtain a copy of the License at\n",
              "//\n",
              "//      http://www.apache.org/licenses/LICENSE-2.0\n",
              "//\n",
              "// Unless required by applicable law or agreed to in writing, software\n",
              "// distributed under the License is distributed on an \"AS IS\" BASIS,\n",
              "// WITHOUT WARRANTIES OR CONDITIONS OF ANY KIND, either express or implied.\n",
              "// See the License for the specific language governing permissions and\n",
              "// limitations under the License.\n",
              "\n",
              "/**\n",
              " * @fileoverview Helpers for google.colab Python module.\n",
              " */\n",
              "(function(scope) {\n",
              "function span(text, styleAttributes = {}) {\n",
              "  const element = document.createElement('span');\n",
              "  element.textContent = text;\n",
              "  for (const key of Object.keys(styleAttributes)) {\n",
              "    element.style[key] = styleAttributes[key];\n",
              "  }\n",
              "  return element;\n",
              "}\n",
              "\n",
              "// Max number of bytes which will be uploaded at a time.\n",
              "const MAX_PAYLOAD_SIZE = 100 * 1024;\n",
              "\n",
              "function _uploadFiles(inputId, outputId) {\n",
              "  const steps = uploadFilesStep(inputId, outputId);\n",
              "  const outputElement = document.getElementById(outputId);\n",
              "  // Cache steps on the outputElement to make it available for the next call\n",
              "  // to uploadFilesContinue from Python.\n",
              "  outputElement.steps = steps;\n",
              "\n",
              "  return _uploadFilesContinue(outputId);\n",
              "}\n",
              "\n",
              "// This is roughly an async generator (not supported in the browser yet),\n",
              "// where there are multiple asynchronous steps and the Python side is going\n",
              "// to poll for completion of each step.\n",
              "// This uses a Promise to block the python side on completion of each step,\n",
              "// then passes the result of the previous step as the input to the next step.\n",
              "function _uploadFilesContinue(outputId) {\n",
              "  const outputElement = document.getElementById(outputId);\n",
              "  const steps = outputElement.steps;\n",
              "\n",
              "  const next = steps.next(outputElement.lastPromiseValue);\n",
              "  return Promise.resolve(next.value.promise).then((value) => {\n",
              "    // Cache the last promise value to make it available to the next\n",
              "    // step of the generator.\n",
              "    outputElement.lastPromiseValue = value;\n",
              "    return next.value.response;\n",
              "  });\n",
              "}\n",
              "\n",
              "/**\n",
              " * Generator function which is called between each async step of the upload\n",
              " * process.\n",
              " * @param {string} inputId Element ID of the input file picker element.\n",
              " * @param {string} outputId Element ID of the output display.\n",
              " * @return {!Iterable<!Object>} Iterable of next steps.\n",
              " */\n",
              "function* uploadFilesStep(inputId, outputId) {\n",
              "  const inputElement = document.getElementById(inputId);\n",
              "  inputElement.disabled = false;\n",
              "\n",
              "  const outputElement = document.getElementById(outputId);\n",
              "  outputElement.innerHTML = '';\n",
              "\n",
              "  const pickedPromise = new Promise((resolve) => {\n",
              "    inputElement.addEventListener('change', (e) => {\n",
              "      resolve(e.target.files);\n",
              "    });\n",
              "  });\n",
              "\n",
              "  const cancel = document.createElement('button');\n",
              "  inputElement.parentElement.appendChild(cancel);\n",
              "  cancel.textContent = 'Cancel upload';\n",
              "  const cancelPromise = new Promise((resolve) => {\n",
              "    cancel.onclick = () => {\n",
              "      resolve(null);\n",
              "    };\n",
              "  });\n",
              "\n",
              "  // Wait for the user to pick the files.\n",
              "  const files = yield {\n",
              "    promise: Promise.race([pickedPromise, cancelPromise]),\n",
              "    response: {\n",
              "      action: 'starting',\n",
              "    }\n",
              "  };\n",
              "\n",
              "  cancel.remove();\n",
              "\n",
              "  // Disable the input element since further picks are not allowed.\n",
              "  inputElement.disabled = true;\n",
              "\n",
              "  if (!files) {\n",
              "    return {\n",
              "      response: {\n",
              "        action: 'complete',\n",
              "      }\n",
              "    };\n",
              "  }\n",
              "\n",
              "  for (const file of files) {\n",
              "    const li = document.createElement('li');\n",
              "    li.append(span(file.name, {fontWeight: 'bold'}));\n",
              "    li.append(span(\n",
              "        `(${file.type || 'n/a'}) - ${file.size} bytes, ` +\n",
              "        `last modified: ${\n",
              "            file.lastModifiedDate ? file.lastModifiedDate.toLocaleDateString() :\n",
              "                                    'n/a'} - `));\n",
              "    const percent = span('0% done');\n",
              "    li.appendChild(percent);\n",
              "\n",
              "    outputElement.appendChild(li);\n",
              "\n",
              "    const fileDataPromise = new Promise((resolve) => {\n",
              "      const reader = new FileReader();\n",
              "      reader.onload = (e) => {\n",
              "        resolve(e.target.result);\n",
              "      };\n",
              "      reader.readAsArrayBuffer(file);\n",
              "    });\n",
              "    // Wait for the data to be ready.\n",
              "    let fileData = yield {\n",
              "      promise: fileDataPromise,\n",
              "      response: {\n",
              "        action: 'continue',\n",
              "      }\n",
              "    };\n",
              "\n",
              "    // Use a chunked sending to avoid message size limits. See b/62115660.\n",
              "    let position = 0;\n",
              "    do {\n",
              "      const length = Math.min(fileData.byteLength - position, MAX_PAYLOAD_SIZE);\n",
              "      const chunk = new Uint8Array(fileData, position, length);\n",
              "      position += length;\n",
              "\n",
              "      const base64 = btoa(String.fromCharCode.apply(null, chunk));\n",
              "      yield {\n",
              "        response: {\n",
              "          action: 'append',\n",
              "          file: file.name,\n",
              "          data: base64,\n",
              "        },\n",
              "      };\n",
              "\n",
              "      let percentDone = fileData.byteLength === 0 ?\n",
              "          100 :\n",
              "          Math.round((position / fileData.byteLength) * 100);\n",
              "      percent.textContent = `${percentDone}% done`;\n",
              "\n",
              "    } while (position < fileData.byteLength);\n",
              "  }\n",
              "\n",
              "  // All done.\n",
              "  yield {\n",
              "    response: {\n",
              "      action: 'complete',\n",
              "    }\n",
              "  };\n",
              "}\n",
              "\n",
              "scope.google = scope.google || {};\n",
              "scope.google.colab = scope.google.colab || {};\n",
              "scope.google.colab._files = {\n",
              "  _uploadFiles,\n",
              "  _uploadFilesContinue,\n",
              "};\n",
              "})(self);\n",
              "</script> "
            ]
          },
          "metadata": {}
        },
        {
          "output_type": "stream",
          "name": "stdout",
          "text": [
            "Saving sentiment-tweets.csv to sentiment-tweets.csv\n"
          ]
        }
      ]
    },
    {
      "cell_type": "code",
      "source": [
        "!mkdir -p ./data  # Create data directory if it doesn't exist\n",
        "!mv sentiment-tweets.csv ./data/  # Move the file"
      ],
      "metadata": {
        "id": "NvCp5m0-GEZX"
      },
      "execution_count": 30,
      "outputs": []
    },
    {
      "cell_type": "code",
      "source": [
        "!ls ./data/  # Should show sentiment-tweets.csv"
      ],
      "metadata": {
        "colab": {
          "base_uri": "https://localhost:8080/"
        },
        "id": "ijtKRbA3GHOD",
        "outputId": "63589d2c-61d1-4e99-cdaf-7bcbde5a1391"
      },
      "execution_count": 31,
      "outputs": [
        {
          "output_type": "stream",
          "name": "stdout",
          "text": [
            "sentiment-tweets.csv\n"
          ]
        }
      ]
    },
    {
      "cell_type": "code",
      "source": [
        "import pandas as pd\n",
        "pd.read_csv('./data/sentiment-tweets.csv').head()  # Test loading directly"
      ],
      "metadata": {
        "colab": {
          "base_uri": "https://localhost:8080/",
          "height": 452
        },
        "id": "pPiUar-_GTbB",
        "outputId": "ff6d7480-c9bc-4cb2-a5cb-bc215af8c37f"
      },
      "execution_count": 33,
      "outputs": [
        {
          "output_type": "execute_result",
          "data": {
            "text/plain": [
              "             tweet_id airline_sentiment  airline_sentiment_confidence  \\\n",
              "0  570306133677760513           neutral                        1.0000   \n",
              "1  570301130888122368          positive                        0.3486   \n",
              "2  570301083672813571           neutral                        0.6837   \n",
              "3  570301031407624196          negative                        1.0000   \n",
              "4  570300817074462722          negative                        1.0000   \n",
              "\n",
              "  negativereason  negativereason_confidence         airline  \\\n",
              "0            NaN                        NaN  Virgin America   \n",
              "1            NaN                     0.0000  Virgin America   \n",
              "2            NaN                        NaN  Virgin America   \n",
              "3     Bad Flight                     0.7033  Virgin America   \n",
              "4     Can't Tell                     1.0000  Virgin America   \n",
              "\n",
              "  airline_sentiment_gold        name negativereason_gold  retweet_count  \\\n",
              "0                    NaN     cairdin                 NaN              0   \n",
              "1                    NaN    jnardino                 NaN              0   \n",
              "2                    NaN  yvonnalynn                 NaN              0   \n",
              "3                    NaN    jnardino                 NaN              0   \n",
              "4                    NaN    jnardino                 NaN              0   \n",
              "\n",
              "                                                text tweet_coord  \\\n",
              "0                @VirginAmerica What @dhepburn said.         NaN   \n",
              "1  @VirginAmerica plus you've added commercials t...         NaN   \n",
              "2  @VirginAmerica I didn't today... Must mean I n...         NaN   \n",
              "3  @VirginAmerica it's really aggressive to blast...         NaN   \n",
              "4  @VirginAmerica and it's a really big bad thing...         NaN   \n",
              "\n",
              "               tweet_created tweet_location               user_timezone  \n",
              "0  2015-02-24 11:35:52 -0800            NaN  Eastern Time (US & Canada)  \n",
              "1  2015-02-24 11:15:59 -0800            NaN  Pacific Time (US & Canada)  \n",
              "2  2015-02-24 11:15:48 -0800      Lets Play  Central Time (US & Canada)  \n",
              "3  2015-02-24 11:15:36 -0800            NaN  Pacific Time (US & Canada)  \n",
              "4  2015-02-24 11:14:45 -0800            NaN  Pacific Time (US & Canada)  "
            ],
            "text/html": [
              "\n",
              "  <div id=\"df-61717c36-da57-4958-a1d9-6638b8ddd5b2\" class=\"colab-df-container\">\n",
              "    <div>\n",
              "<style scoped>\n",
              "    .dataframe tbody tr th:only-of-type {\n",
              "        vertical-align: middle;\n",
              "    }\n",
              "\n",
              "    .dataframe tbody tr th {\n",
              "        vertical-align: top;\n",
              "    }\n",
              "\n",
              "    .dataframe thead th {\n",
              "        text-align: right;\n",
              "    }\n",
              "</style>\n",
              "<table border=\"1\" class=\"dataframe\">\n",
              "  <thead>\n",
              "    <tr style=\"text-align: right;\">\n",
              "      <th></th>\n",
              "      <th>tweet_id</th>\n",
              "      <th>airline_sentiment</th>\n",
              "      <th>airline_sentiment_confidence</th>\n",
              "      <th>negativereason</th>\n",
              "      <th>negativereason_confidence</th>\n",
              "      <th>airline</th>\n",
              "      <th>airline_sentiment_gold</th>\n",
              "      <th>name</th>\n",
              "      <th>negativereason_gold</th>\n",
              "      <th>retweet_count</th>\n",
              "      <th>text</th>\n",
              "      <th>tweet_coord</th>\n",
              "      <th>tweet_created</th>\n",
              "      <th>tweet_location</th>\n",
              "      <th>user_timezone</th>\n",
              "    </tr>\n",
              "  </thead>\n",
              "  <tbody>\n",
              "    <tr>\n",
              "      <th>0</th>\n",
              "      <td>570306133677760513</td>\n",
              "      <td>neutral</td>\n",
              "      <td>1.0000</td>\n",
              "      <td>NaN</td>\n",
              "      <td>NaN</td>\n",
              "      <td>Virgin America</td>\n",
              "      <td>NaN</td>\n",
              "      <td>cairdin</td>\n",
              "      <td>NaN</td>\n",
              "      <td>0</td>\n",
              "      <td>@VirginAmerica What @dhepburn said.</td>\n",
              "      <td>NaN</td>\n",
              "      <td>2015-02-24 11:35:52 -0800</td>\n",
              "      <td>NaN</td>\n",
              "      <td>Eastern Time (US &amp; Canada)</td>\n",
              "    </tr>\n",
              "    <tr>\n",
              "      <th>1</th>\n",
              "      <td>570301130888122368</td>\n",
              "      <td>positive</td>\n",
              "      <td>0.3486</td>\n",
              "      <td>NaN</td>\n",
              "      <td>0.0000</td>\n",
              "      <td>Virgin America</td>\n",
              "      <td>NaN</td>\n",
              "      <td>jnardino</td>\n",
              "      <td>NaN</td>\n",
              "      <td>0</td>\n",
              "      <td>@VirginAmerica plus you've added commercials t...</td>\n",
              "      <td>NaN</td>\n",
              "      <td>2015-02-24 11:15:59 -0800</td>\n",
              "      <td>NaN</td>\n",
              "      <td>Pacific Time (US &amp; Canada)</td>\n",
              "    </tr>\n",
              "    <tr>\n",
              "      <th>2</th>\n",
              "      <td>570301083672813571</td>\n",
              "      <td>neutral</td>\n",
              "      <td>0.6837</td>\n",
              "      <td>NaN</td>\n",
              "      <td>NaN</td>\n",
              "      <td>Virgin America</td>\n",
              "      <td>NaN</td>\n",
              "      <td>yvonnalynn</td>\n",
              "      <td>NaN</td>\n",
              "      <td>0</td>\n",
              "      <td>@VirginAmerica I didn't today... Must mean I n...</td>\n",
              "      <td>NaN</td>\n",
              "      <td>2015-02-24 11:15:48 -0800</td>\n",
              "      <td>Lets Play</td>\n",
              "      <td>Central Time (US &amp; Canada)</td>\n",
              "    </tr>\n",
              "    <tr>\n",
              "      <th>3</th>\n",
              "      <td>570301031407624196</td>\n",
              "      <td>negative</td>\n",
              "      <td>1.0000</td>\n",
              "      <td>Bad Flight</td>\n",
              "      <td>0.7033</td>\n",
              "      <td>Virgin America</td>\n",
              "      <td>NaN</td>\n",
              "      <td>jnardino</td>\n",
              "      <td>NaN</td>\n",
              "      <td>0</td>\n",
              "      <td>@VirginAmerica it's really aggressive to blast...</td>\n",
              "      <td>NaN</td>\n",
              "      <td>2015-02-24 11:15:36 -0800</td>\n",
              "      <td>NaN</td>\n",
              "      <td>Pacific Time (US &amp; Canada)</td>\n",
              "    </tr>\n",
              "    <tr>\n",
              "      <th>4</th>\n",
              "      <td>570300817074462722</td>\n",
              "      <td>negative</td>\n",
              "      <td>1.0000</td>\n",
              "      <td>Can't Tell</td>\n",
              "      <td>1.0000</td>\n",
              "      <td>Virgin America</td>\n",
              "      <td>NaN</td>\n",
              "      <td>jnardino</td>\n",
              "      <td>NaN</td>\n",
              "      <td>0</td>\n",
              "      <td>@VirginAmerica and it's a really big bad thing...</td>\n",
              "      <td>NaN</td>\n",
              "      <td>2015-02-24 11:14:45 -0800</td>\n",
              "      <td>NaN</td>\n",
              "      <td>Pacific Time (US &amp; Canada)</td>\n",
              "    </tr>\n",
              "  </tbody>\n",
              "</table>\n",
              "</div>\n",
              "    <div class=\"colab-df-buttons\">\n",
              "\n",
              "  <div class=\"colab-df-container\">\n",
              "    <button class=\"colab-df-convert\" onclick=\"convertToInteractive('df-61717c36-da57-4958-a1d9-6638b8ddd5b2')\"\n",
              "            title=\"Convert this dataframe to an interactive table.\"\n",
              "            style=\"display:none;\">\n",
              "\n",
              "  <svg xmlns=\"http://www.w3.org/2000/svg\" height=\"24px\" viewBox=\"0 -960 960 960\">\n",
              "    <path d=\"M120-120v-720h720v720H120Zm60-500h600v-160H180v160Zm220 220h160v-160H400v160Zm0 220h160v-160H400v160ZM180-400h160v-160H180v160Zm440 0h160v-160H620v160ZM180-180h160v-160H180v160Zm440 0h160v-160H620v160Z\"/>\n",
              "  </svg>\n",
              "    </button>\n",
              "\n",
              "  <style>\n",
              "    .colab-df-container {\n",
              "      display:flex;\n",
              "      gap: 12px;\n",
              "    }\n",
              "\n",
              "    .colab-df-convert {\n",
              "      background-color: #E8F0FE;\n",
              "      border: none;\n",
              "      border-radius: 50%;\n",
              "      cursor: pointer;\n",
              "      display: none;\n",
              "      fill: #1967D2;\n",
              "      height: 32px;\n",
              "      padding: 0 0 0 0;\n",
              "      width: 32px;\n",
              "    }\n",
              "\n",
              "    .colab-df-convert:hover {\n",
              "      background-color: #E2EBFA;\n",
              "      box-shadow: 0px 1px 2px rgba(60, 64, 67, 0.3), 0px 1px 3px 1px rgba(60, 64, 67, 0.15);\n",
              "      fill: #174EA6;\n",
              "    }\n",
              "\n",
              "    .colab-df-buttons div {\n",
              "      margin-bottom: 4px;\n",
              "    }\n",
              "\n",
              "    [theme=dark] .colab-df-convert {\n",
              "      background-color: #3B4455;\n",
              "      fill: #D2E3FC;\n",
              "    }\n",
              "\n",
              "    [theme=dark] .colab-df-convert:hover {\n",
              "      background-color: #434B5C;\n",
              "      box-shadow: 0px 1px 3px 1px rgba(0, 0, 0, 0.15);\n",
              "      filter: drop-shadow(0px 1px 2px rgba(0, 0, 0, 0.3));\n",
              "      fill: #FFFFFF;\n",
              "    }\n",
              "  </style>\n",
              "\n",
              "    <script>\n",
              "      const buttonEl =\n",
              "        document.querySelector('#df-61717c36-da57-4958-a1d9-6638b8ddd5b2 button.colab-df-convert');\n",
              "      buttonEl.style.display =\n",
              "        google.colab.kernel.accessAllowed ? 'block' : 'none';\n",
              "\n",
              "      async function convertToInteractive(key) {\n",
              "        const element = document.querySelector('#df-61717c36-da57-4958-a1d9-6638b8ddd5b2');\n",
              "        const dataTable =\n",
              "          await google.colab.kernel.invokeFunction('convertToInteractive',\n",
              "                                                    [key], {});\n",
              "        if (!dataTable) return;\n",
              "\n",
              "        const docLinkHtml = 'Like what you see? Visit the ' +\n",
              "          '<a target=\"_blank\" href=https://colab.research.google.com/notebooks/data_table.ipynb>data table notebook</a>'\n",
              "          + ' to learn more about interactive tables.';\n",
              "        element.innerHTML = '';\n",
              "        dataTable['output_type'] = 'display_data';\n",
              "        await google.colab.output.renderOutput(dataTable, element);\n",
              "        const docLink = document.createElement('div');\n",
              "        docLink.innerHTML = docLinkHtml;\n",
              "        element.appendChild(docLink);\n",
              "      }\n",
              "    </script>\n",
              "  </div>\n",
              "\n",
              "\n",
              "    <div id=\"df-727303bd-84c2-4981-89e0-e49d34556a78\">\n",
              "      <button class=\"colab-df-quickchart\" onclick=\"quickchart('df-727303bd-84c2-4981-89e0-e49d34556a78')\"\n",
              "                title=\"Suggest charts\"\n",
              "                style=\"display:none;\">\n",
              "\n",
              "<svg xmlns=\"http://www.w3.org/2000/svg\" height=\"24px\"viewBox=\"0 0 24 24\"\n",
              "     width=\"24px\">\n",
              "    <g>\n",
              "        <path d=\"M19 3H5c-1.1 0-2 .9-2 2v14c0 1.1.9 2 2 2h14c1.1 0 2-.9 2-2V5c0-1.1-.9-2-2-2zM9 17H7v-7h2v7zm4 0h-2V7h2v10zm4 0h-2v-4h2v4z\"/>\n",
              "    </g>\n",
              "</svg>\n",
              "      </button>\n",
              "\n",
              "<style>\n",
              "  .colab-df-quickchart {\n",
              "      --bg-color: #E8F0FE;\n",
              "      --fill-color: #1967D2;\n",
              "      --hover-bg-color: #E2EBFA;\n",
              "      --hover-fill-color: #174EA6;\n",
              "      --disabled-fill-color: #AAA;\n",
              "      --disabled-bg-color: #DDD;\n",
              "  }\n",
              "\n",
              "  [theme=dark] .colab-df-quickchart {\n",
              "      --bg-color: #3B4455;\n",
              "      --fill-color: #D2E3FC;\n",
              "      --hover-bg-color: #434B5C;\n",
              "      --hover-fill-color: #FFFFFF;\n",
              "      --disabled-bg-color: #3B4455;\n",
              "      --disabled-fill-color: #666;\n",
              "  }\n",
              "\n",
              "  .colab-df-quickchart {\n",
              "    background-color: var(--bg-color);\n",
              "    border: none;\n",
              "    border-radius: 50%;\n",
              "    cursor: pointer;\n",
              "    display: none;\n",
              "    fill: var(--fill-color);\n",
              "    height: 32px;\n",
              "    padding: 0;\n",
              "    width: 32px;\n",
              "  }\n",
              "\n",
              "  .colab-df-quickchart:hover {\n",
              "    background-color: var(--hover-bg-color);\n",
              "    box-shadow: 0 1px 2px rgba(60, 64, 67, 0.3), 0 1px 3px 1px rgba(60, 64, 67, 0.15);\n",
              "    fill: var(--button-hover-fill-color);\n",
              "  }\n",
              "\n",
              "  .colab-df-quickchart-complete:disabled,\n",
              "  .colab-df-quickchart-complete:disabled:hover {\n",
              "    background-color: var(--disabled-bg-color);\n",
              "    fill: var(--disabled-fill-color);\n",
              "    box-shadow: none;\n",
              "  }\n",
              "\n",
              "  .colab-df-spinner {\n",
              "    border: 2px solid var(--fill-color);\n",
              "    border-color: transparent;\n",
              "    border-bottom-color: var(--fill-color);\n",
              "    animation:\n",
              "      spin 1s steps(1) infinite;\n",
              "  }\n",
              "\n",
              "  @keyframes spin {\n",
              "    0% {\n",
              "      border-color: transparent;\n",
              "      border-bottom-color: var(--fill-color);\n",
              "      border-left-color: var(--fill-color);\n",
              "    }\n",
              "    20% {\n",
              "      border-color: transparent;\n",
              "      border-left-color: var(--fill-color);\n",
              "      border-top-color: var(--fill-color);\n",
              "    }\n",
              "    30% {\n",
              "      border-color: transparent;\n",
              "      border-left-color: var(--fill-color);\n",
              "      border-top-color: var(--fill-color);\n",
              "      border-right-color: var(--fill-color);\n",
              "    }\n",
              "    40% {\n",
              "      border-color: transparent;\n",
              "      border-right-color: var(--fill-color);\n",
              "      border-top-color: var(--fill-color);\n",
              "    }\n",
              "    60% {\n",
              "      border-color: transparent;\n",
              "      border-right-color: var(--fill-color);\n",
              "    }\n",
              "    80% {\n",
              "      border-color: transparent;\n",
              "      border-right-color: var(--fill-color);\n",
              "      border-bottom-color: var(--fill-color);\n",
              "    }\n",
              "    90% {\n",
              "      border-color: transparent;\n",
              "      border-bottom-color: var(--fill-color);\n",
              "    }\n",
              "  }\n",
              "</style>\n",
              "\n",
              "      <script>\n",
              "        async function quickchart(key) {\n",
              "          const quickchartButtonEl =\n",
              "            document.querySelector('#' + key + ' button');\n",
              "          quickchartButtonEl.disabled = true;  // To prevent multiple clicks.\n",
              "          quickchartButtonEl.classList.add('colab-df-spinner');\n",
              "          try {\n",
              "            const charts = await google.colab.kernel.invokeFunction(\n",
              "                'suggestCharts', [key], {});\n",
              "          } catch (error) {\n",
              "            console.error('Error during call to suggestCharts:', error);\n",
              "          }\n",
              "          quickchartButtonEl.classList.remove('colab-df-spinner');\n",
              "          quickchartButtonEl.classList.add('colab-df-quickchart-complete');\n",
              "        }\n",
              "        (() => {\n",
              "          let quickchartButtonEl =\n",
              "            document.querySelector('#df-727303bd-84c2-4981-89e0-e49d34556a78 button');\n",
              "          quickchartButtonEl.style.display =\n",
              "            google.colab.kernel.accessAllowed ? 'block' : 'none';\n",
              "        })();\n",
              "      </script>\n",
              "    </div>\n",
              "    </div>\n",
              "  </div>\n"
            ],
            "application/vnd.google.colaboratory.intrinsic+json": {
              "type": "dataframe",
              "repr_error": "Out of range float values are not JSON compliant: nan"
            }
          },
          "metadata": {},
          "execution_count": 33
        }
      ]
    },
    {
      "cell_type": "code",
      "execution_count": 32,
      "metadata": {
        "colab": {
          "base_uri": "https://localhost:8080/"
        },
        "id": "B_2Lchiz6CT0",
        "outputId": "121b04ae-ec15-4ea6-b1ed-329a633d17d3"
      },
      "outputs": [
        {
          "output_type": "stream",
          "name": "stdout",
          "text": [
            "Tweet: @VirginAmerica seriously would pay $30 a flight for seats that didn't have this playing.\n",
            "it's really the only bad thing about flying VA\n",
            "Label: [0. 0. 1.]\n",
            "Bag of Words Representation: [0. 1. 0. ... 0. 0. 0.]\n"
          ]
        }
      ],
      "source": [
        "# load data\n",
        "X, y, index_to_word, sentences = utils.load_sentiment_data_bow()\n",
        "X_train, y_train, X_test, y_test = utils.split_data(X, y)\n",
        "vocab_size = X.shape[1]\n",
        "n_classes = y.shape[1]\n",
        "\n",
        "print(\"Tweet:\", sentences[5])\n",
        "print(\"Label:\", y[5])\n",
        "print(\"Bag of Words Representation:\", X_train[5])"
      ]
    },
    {
      "cell_type": "markdown",
      "metadata": {
        "id": "odpYoxFl6CT1"
      },
      "source": [
        "### Step 2: Making Placeholders"
      ]
    },
    {
      "cell_type": "markdown",
      "metadata": {
        "id": "uug8nBdd6CT1"
      },
      "source": [
        "So we have our data loaded as numpy arrays. But remember, TensorFlow graphs begin with generic placeholder inputs, not actual data. We feed the actual data in later once the full graph has been defined. We define our placeholders like this:"
      ]
    },
    {
      "cell_type": "code",
      "execution_count": 35,
      "metadata": {
        "id": "JMhY61HY6CT1"
      },
      "outputs": [],
      "source": [
        "import tensorflow.compat.v1 as tf\n",
        "tf.disable_v2_behavior()\n",
        "\n",
        "data_placeholder = tf.placeholder(tf.float32, shape=(None, vocab_size), name='data_placeholder')\n",
        "\n",
        "'''TODO: Make the labels placeholder.'''\n",
        "labels_placeholder = tf.placeholder(tf.float32, shape=(None, n_classes), name='labels_placeholder')"
      ]
    },
    {
      "cell_type": "markdown",
      "metadata": {
        "id": "cSYspM_F6CT1"
      },
      "source": [
        "#### Why Do We Pass in None?\n",
        "\n",
        "A note about ‘None’ and fluid-sized dimensions:\n",
        "\n",
        "You may notice that the first dimension of shape of data_placeholder is ‘None’. data_placeholder should have shape (num_tweets, vocab_size). However, we don’t know how many tweets we are going to be passing in at a time, num_tweets is unknown. Its possible that we only want to pass in 1 tweet at a time, or 30, or 1,000. Thankfully, TensorFlow allows us to specify placeholders with fluid-sized dimensions. We can use None to specify some fluid dimension of our shape. When our data eventually gets passed in as a numpy array, TensorFlow can figure out what the value of the fluid-size dimension should be.\n",
        "\n",
        "### Step 3: Define Network Parameters\n",
        "Let’s now define and initialize our network parameters.\n",
        "\n",
        "We'll our model parameters using tf.Variable. When you create a tf.Variable you pass a Tensor as its initial value to the Variable() constructor. A Tensor is a term for any N-dimensional matrix. There are a ton of different initial Tensor value functions you can use ([full list](https://www.tensorflow.org/api_docs/python/constant_op/)). All these functions take a list argument that determines their shape. Here we use tf.truncated_normal for our weights, and tf.zeros for our biases. Its important that the shape of these parameters are compatible. We’ll be matrix-multiplying the weights, so the last dimension of the previous weight matrix must equal the first dimension of the next weight matrix. Notice this pattern in the following tensor initialization code. Lastly, notice the size of the tensor for our last weights. We are predicting a vector of size n_classes so our network needs to end with n_classes nodes."
      ]
    },
    {
      "cell_type": "code",
      "execution_count": 36,
      "metadata": {
        "id": "pSuLzOsJ6CT2"
      },
      "outputs": [],
      "source": [
        "# Define Network Parameters\n",
        "\n",
        "# Here, we can define how many units will be in each hidden layer.\n",
        "n_hidden_units_h0 = 512\n",
        "n_hidden_units_h1 = 256\n",
        "\n",
        "# Weights going from input to first hidden layer.\n",
        "# The first value passed into tf.Variable is initialization of the variable.\n",
        "# We initialize our weights to be sampled from a truncated normal, as this does something\n",
        "# called symmetry breaking and keeps the neural network from getting stuck at the start.\n",
        "# Since the weight matrix multiplies the previous layer to get inputs to the next layer,\n",
        "# its size is prev_layer_size x next_layer_size.\n",
        "h0_weights = tf.Variable(\n",
        "    tf.truncated_normal([vocab_size, n_hidden_units_h0]),\n",
        "    name='h0_weights')\n",
        "h0_biases = tf.Variable(tf.zeros([n_hidden_units_h0]),\n",
        "                     name='h0_biases')\n",
        "\n",
        "'''TODO: Set up variables for the weights going into the second hidden layer.\n",
        "You can check out the tf.Variable API here: https://www.tensorflow.org/api_docs/python/tf/Variable.\n",
        "''';\n",
        "# Weights going from first hidden layer (h0) to second hidden layer (h1)\n",
        "h1_weights = tf.Variable(\n",
        "    tf.truncated_normal([n_hidden_units_h0, n_hidden_units_h1]),  # [input_size, output_size]\n",
        "    name='h1_weights')\n",
        "\n",
        "h1_biases = tf.Variable(\n",
        "    tf.zeros([n_hidden_units_h1]),  # matches the output size\n",
        "    name='h1_biases')\n",
        "# Weights going into the output layer.\n",
        "out_weights = tf.Variable(\n",
        "    tf.truncated_normal([n_hidden_units_h1, n_classes]),\n",
        "    name='out_weights')\n",
        "out_biases = tf.Variable(tf.zeros([n_classes]),\n",
        "                     name='out_biases')\n",
        "\n"
      ]
    },
    {
      "cell_type": "markdown",
      "metadata": {
        "id": "_R98TfFg6CT2"
      },
      "source": [
        "### Step 4: Build Computation Graph\n",
        "\n",
        "Now let’s define our computation graph.\n",
        "\n",
        "Our first operation in our graph is a tf.matmul of our data input and our first set of weights. tf.matmul performs a matrix multiplication of two tensors. This is why it is so important that the dimensions of data_placeholder and h0_weights align (dimension 1 of data_placeholder must equal dimension 0 of h0_weights). We then just add the h0_bias variable and perform a nonlinearity transformation, in this case we use tf.nn.relu (ReLU). We do this again for the next hidden layer, and the final output logits."
      ]
    },
    {
      "cell_type": "code",
      "execution_count": 37,
      "metadata": {
        "id": "R39bzJgg6CT3"
      },
      "outputs": [],
      "source": [
        "# Define Computation Graphs\n",
        "hidden0 = tf.nn.relu(tf.matmul(data_placeholder, h0_weights) + h0_biases)\n",
        "\n",
        "'''TODO: write the computation to get the output of the second hidden layer.''';\n",
        "hidden1 = tf.nn.relu(tf.matmul(hidden0, h1_weights) + h1_biases)\n",
        "\n",
        "logits = tf.matmul(hidden1, out_weights) + out_biases\n"
      ]
    },
    {
      "cell_type": "markdown",
      "metadata": {
        "id": "4pAro-KZ6CT3"
      },
      "source": [
        "### Step 5: Define a Loss Functions\n",
        "\n",
        "We have defined our network, but we need a way to train it. Training a network comes down to optimizing our network to minimize a loss function, or a measure how good we're doing.  Then, we can take the gradient with respect to that performance and move in the right direction.\n",
        "\n",
        "Since we are doing classification (pos vs neg), a common loss function to use is [cross entropy](https://colah.github.io/posts/2015-09-Visual-Information/):\n",
        "\n",
        "$$L( \\Theta ) = - \\sum_i  y_i'\\log{y_i}  $$\n",
        "\n",
        "where $y$ is our predicted probability distribution and $y'$ is the true distribution. We can access this function in tensorflow with `tf.nn.softmax_cross_entropy_with_logits`.\n",
        "\n",
        "Note that this loss is 0 if the prediction is correct.\n"
      ]
    },
    {
      "cell_type": "code",
      "execution_count": 38,
      "metadata": {
        "collapsed": true,
        "colab": {
          "base_uri": "https://localhost:8080/"
        },
        "id": "4jFglc_I6CT3",
        "outputId": "573c7677-a5e9-4dc4-9d3b-3a1013bf0e9d"
      },
      "outputs": [
        {
          "output_type": "stream",
          "name": "stderr",
          "text": [
            "WARNING:tensorflow:From /usr/local/lib/python3.11/dist-packages/tensorflow/python/util/dispatch.py:1260: softmax_cross_entropy_with_logits (from tensorflow.python.ops.nn_ops) is deprecated and will be removed in a future version.\n",
            "Instructions for updating:\n",
            "\n",
            "Future major versions of TensorFlow will allow gradients to flow\n",
            "into the labels input on backprop by default.\n",
            "\n",
            "See `tf.nn.softmax_cross_entropy_with_logits_v2`.\n",
            "\n"
          ]
        }
      ],
      "source": [
        "'''TODO: Define the loss.  Use tf.nn.softmax_cross_entropy_with_logits.'''\n",
        "loss = tf.reduce_mean(\n",
        "    tf.nn.softmax_cross_entropy_with_logits(\n",
        "        labels=labels_placeholder,\n",
        "        logits=logits\n",
        "    )\n",
        ")\n",
        "\n",
        "learning_rate = 0.0002\n",
        "\n",
        "# Define the optimizer operation.  This is what will take the derivate of the loss\n",
        "# with respect to each of our parameters and try to minimize it.\n",
        "optimizer = tf.train.GradientDescentOptimizer(learning_rate).minimize(loss)\n",
        "prediction = tf.nn.softmax(logits)\n",
        "\n",
        "# Compute the accuracy\n",
        "prediction_is_correct = tf.equal(tf.argmax(logits, 1), tf.argmax(labels_placeholder, 1))\n",
        "accuracy = tf.reduce_mean(tf.cast(prediction_is_correct, tf.float32))"
      ]
    },
    {
      "cell_type": "markdown",
      "metadata": {
        "id": "5hg_qnfL6CT4"
      },
      "source": [
        "#### Quick Conceptual Note:\n",
        "Nearly everything we do in TensorFlow is an operation with inputs and outputs. Our loss variable is an operation, that takes the output of the last layer of the net, which takes the output of the 2nd-to-last layer of the net, and so on. Our loss can be traced back to the input as a single function. This is our full computation graph. We pass this to our optimizer which is able to compute the gradient for this computation graph and adjust all the weights in it to minimize the loss.\n",
        "\n",
        "### Step 6: Training our Net\n",
        "We have our network, our loss function, and our optimizer ready, now we just need to pass in the data to train it. We pass in the data in chunks called mini-batches.  We do backpropogation at the end of a batch based on the loss that results from all the examples in the batch.  Using batches is just like Stochastic Gradient Descent, except instead of updating parameters after each example, we update them based on the gradient computed after *several* examples.\n",
        "\n",
        "To measure how well we're doing, we can't just look at how well our model performs on it's training data. It could be just memorizing the training data and perform terribly on data it hasn't seen before. To really measure how it performs in the wild, we need to present it with unseen data, and we can tune our hyper-parameters (like learning rate, num layers etc.) over this first unseen set, which we call our development (or validation) set. However, given that we optimized our hyper-parameters to the development set, to get a true fair assesment of the model, we test it with respect to a held-out test set at the end, and generally report those numbers.\n",
        "\n",
        "For now, we'll just use a training set and a testing set.  We'll train with the training set and evaluate on the test set to see how well our model performs."
      ]
    },
    {
      "cell_type": "code",
      "execution_count": 39,
      "metadata": {
        "scrolled": true,
        "colab": {
          "base_uri": "https://localhost:8080/"
        },
        "id": "a-J6F3Bz6CT4",
        "outputId": "319f07dc-5223-4aac-b1ab-8342a4df00d8"
      },
      "outputs": [
        {
          "output_type": "stream",
          "name": "stdout",
          "text": [
            "Minibatch train loss at step 0 : 634.03784\n",
            "Minibatch train accuracy: 29.688%\n",
            "Test loss: 838.118\n",
            "Test accuracy: 15.301%\n",
            "Minibatch train loss at step 100 : 196.17879\n",
            "Minibatch train accuracy: 52.344%\n",
            "Test loss: 212.735\n",
            "Test accuracy: 53.040%\n",
            "Minibatch train loss at step 200 : 183.06631\n",
            "Minibatch train accuracy: 57.812%\n",
            "Test loss: 182.480\n",
            "Test accuracy: 56.352%\n",
            "Minibatch train loss at step 300 : 181.54999\n",
            "Minibatch train accuracy: 60.938%\n",
            "Test loss: 167.239\n",
            "Test accuracy: 55.943%\n",
            "Minibatch train loss at step 400 : 155.59077\n",
            "Minibatch train accuracy: 53.125%\n",
            "Test loss: 157.115\n",
            "Test accuracy: 56.182%\n",
            "Minibatch train loss at step 500 : 192.3277\n",
            "Minibatch train accuracy: 44.531%\n",
            "Test loss: 153.651\n",
            "Test accuracy: 54.918%\n",
            "Minibatch train loss at step 600 : 126.33103\n",
            "Minibatch train accuracy: 53.906%\n",
            "Test loss: 144.909\n",
            "Test accuracy: 55.225%\n",
            "Minibatch train loss at step 700 : 188.81761\n",
            "Minibatch train accuracy: 49.219%\n",
            "Test loss: 143.301\n",
            "Test accuracy: 55.567%\n",
            "Minibatch train loss at step 800 : 88.486465\n",
            "Minibatch train accuracy: 70.312%\n",
            "Test loss: 133.385\n",
            "Test accuracy: 56.557%\n",
            "Minibatch train loss at step 900 : 93.49062\n",
            "Minibatch train accuracy: 71.875%\n",
            "Test loss: 124.583\n",
            "Test accuracy: 59.119%\n",
            "Minibatch train loss at step 1000 : 99.999985\n",
            "Minibatch train accuracy: 56.250%\n",
            "Test loss: 123.054\n",
            "Test accuracy: 58.197%\n",
            "Minibatch train loss at step 1100 : 78.809074\n",
            "Minibatch train accuracy: 65.625%\n",
            "Test loss: 115.859\n",
            "Test accuracy: 60.314%\n",
            "Minibatch train loss at step 1200 : 105.88916\n",
            "Minibatch train accuracy: 58.594%\n",
            "Test loss: 111.851\n",
            "Test accuracy: 60.690%\n",
            "Minibatch train loss at step 1300 : 93.79593\n",
            "Minibatch train accuracy: 67.188%\n",
            "Test loss: 110.331\n",
            "Test accuracy: 60.007%\n",
            "Minibatch train loss at step 1400 : 111.805435\n",
            "Minibatch train accuracy: 51.562%\n",
            "Test loss: 110.269\n",
            "Test accuracy: 59.051%\n",
            "Minibatch train loss at step 1500 : 77.94331\n",
            "Minibatch train accuracy: 57.031%\n",
            "Test loss: 106.765\n",
            "Test accuracy: 60.109%\n",
            "Minibatch train loss at step 1600 : 77.39082\n",
            "Minibatch train accuracy: 56.250%\n",
            "Test loss: 103.784\n",
            "Test accuracy: 60.895%\n",
            "Minibatch train loss at step 1700 : 45.176495\n",
            "Minibatch train accuracy: 79.688%\n",
            "Test loss: 106.487\n",
            "Test accuracy: 58.470%\n",
            "Minibatch train loss at step 1800 : 61.994583\n",
            "Minibatch train accuracy: 75.781%\n",
            "Test loss: 99.179\n",
            "Test accuracy: 61.100%\n",
            "Minibatch train loss at step 1900 : 68.53587\n",
            "Minibatch train accuracy: 71.875%\n",
            "Test loss: 98.769\n",
            "Test accuracy: 60.587%\n",
            "Minibatch train loss at step 2000 : 70.69742\n",
            "Minibatch train accuracy: 71.875%\n",
            "Test loss: 95.600\n",
            "Test accuracy: 61.305%\n",
            "Minibatch train loss at step 2100 : 84.168884\n",
            "Minibatch train accuracy: 58.594%\n",
            "Test loss: 91.899\n",
            "Test accuracy: 62.227%\n",
            "Minibatch train loss at step 2200 : 110.44867\n",
            "Minibatch train accuracy: 59.375%\n",
            "Test loss: 92.036\n",
            "Test accuracy: 60.929%\n",
            "Minibatch train loss at step 2300 : 72.95439\n",
            "Minibatch train accuracy: 60.938%\n",
            "Test loss: 92.159\n",
            "Test accuracy: 59.734%\n",
            "Minibatch train loss at step 2400 : 96.80585\n",
            "Minibatch train accuracy: 53.906%\n",
            "Test loss: 92.837\n",
            "Test accuracy: 59.290%\n",
            "Minibatch train loss at step 2500 : 80.03327\n",
            "Minibatch train accuracy: 56.250%\n",
            "Test loss: 89.021\n",
            "Test accuracy: 60.212%\n",
            "Minibatch train loss at step 2600 : 99.5417\n",
            "Minibatch train accuracy: 54.688%\n",
            "Test loss: 87.335\n",
            "Test accuracy: 60.861%\n",
            "Minibatch train loss at step 2700 : 46.5647\n",
            "Minibatch train accuracy: 75.000%\n",
            "Test loss: 85.356\n",
            "Test accuracy: 60.690%\n",
            "Minibatch train loss at step 2800 : 44.819855\n",
            "Minibatch train accuracy: 75.781%\n",
            "Test loss: 83.236\n",
            "Test accuracy: 62.056%\n",
            "Minibatch train loss at step 2900 : 77.8118\n",
            "Minibatch train accuracy: 57.031%\n",
            "Test loss: 82.490\n",
            "Test accuracy: 61.475%\n"
          ]
        }
      ],
      "source": [
        "num_steps = 3000\n",
        "batch_size = 128\n",
        "\n",
        "with tf.Session() as session:\n",
        "\n",
        "    # this operation initializes all the variables we made earlier.\n",
        "    tf.global_variables_initializer().run()\n",
        "\n",
        "    for step in range(num_steps):\n",
        "        # Generate a minibatch.\n",
        "        offset = (step * batch_size) % (X_train.shape[0] - batch_size)\n",
        "        batch_data = X_train[offset:(offset + batch_size), :]\n",
        "        batch_labels = y_train[offset:(offset + batch_size), :]\n",
        "\n",
        "        # Create a dictionary to pass in the batch data.\n",
        "        feed_dict_train = {data_placeholder: batch_data, labels_placeholder : batch_labels}\n",
        "\n",
        "        # Run the optimizer, the loss, the predictions.\n",
        "        # We can run multiple things at once and get their outputs.\n",
        "        _, loss_value_train, predictions_value_train, accuracy_value_train = session.run(\n",
        "          [optimizer, loss, prediction, accuracy], feed_dict=feed_dict_train)\n",
        "\n",
        "        # Print stuff every once in a while.\n",
        "        if (step % 100 == 0):\n",
        "            print(\"Minibatch train loss at step\", step, \":\", loss_value_train)\n",
        "            print(\"Minibatch train accuracy: %.3f%%\" % (accuracy_value_train*100))\n",
        "            feed_dict_test = {data_placeholder: X_test, labels_placeholder: y_test}\n",
        "            loss_value_test, predictions_value_test, accuracy_value_test = session.run(\n",
        "                [loss, prediction, accuracy], feed_dict=feed_dict_test)\n",
        "            print(\"Test loss: %.3f\" % loss_value_test)\n",
        "            print(\"Test accuracy: %.3f%%\" % (accuracy_value_test*100))"
      ]
    },
    {
      "cell_type": "markdown",
      "metadata": {
        "id": "66Ei2k7G6CT4"
      },
      "source": [
        "Running this code, you’ll see the network train and output its performance as it learns. I was able to get it to 65.5% accuracy. This is just OK, considering random guessing gets you 33.3% accuracy. In the next tutorial, you'll learn some ways to improve upon this.\n",
        "\n",
        "## Concluding Thoughts\n",
        "This was a brief introduction into TensorFlow. There is so, so much more to learn and explore, but hopefully this has given you some base knowledge to expand upon. As an additional exercise, you can see what you can do with this code to improve the performance. Ideas include: randomizing mini-batches, making the network deeper, using word embeddings (see below) rather than bag-of-words, trying different optimizers (like Adam), different weight initializations. We’ll explore some of these tomorrow.\n",
        "\n",
        "#### More on Word Embeddings\n",
        "\n",
        "In this lab we used Bag-of-Words to represent a tweet.  Word Embeddings are a more meaningful representation.  The basic idea is we represent a word with a vector $\\phi$ by the context the word appears in. We do this by training a neural network to predict the context of words across a large training set. The weights of that neural network can then be thought of as a dense and useful representation that captures context. This is useful because now our representations of words captures actual semantic similarity.\n",
        "\n",
        "Word Embeddings capture all kinds of useful semantic relationships. For example, one cool emergent property is $ \\phi(king) - \\phi(queen) = \\phi(man) - \\phi(woman)$. To learn more about the magic behind word embeddings we recommend Chris Olah's [blog post](https://colah.github.io/posts/2014-07-NLP-RNNs-Representations/). A common tool for generating Word Embeddings is word2vec."
      ]
    },
    {
      "cell_type": "code",
      "execution_count": null,
      "metadata": {
        "collapsed": true,
        "id": "YALsTYmH6CT4"
      },
      "outputs": [],
      "source": []
    },
    {
      "cell_type": "code",
      "execution_count": null,
      "metadata": {
        "collapsed": true,
        "id": "5EGqsD7i6CT4"
      },
      "outputs": [],
      "source": []
    },
    {
      "cell_type": "code",
      "source": [],
      "metadata": {
        "id": "nYHtUJnuSY_9"
      },
      "execution_count": null,
      "outputs": []
    },
    {
      "cell_type": "code",
      "execution_count": null,
      "metadata": {
        "collapsed": true,
        "id": "cBvvB4t46CT4"
      },
      "outputs": [],
      "source": []
    },
    {
      "cell_type": "code",
      "execution_count": null,
      "metadata": {
        "collapsed": true,
        "id": "eqc0SwHu6CT5"
      },
      "outputs": [],
      "source": []
    },
    {
      "cell_type": "markdown",
      "metadata": {
        "id": "okXUJZJI6CT5"
      },
      "source": [
        "# Solutions"
      ]
    },
    {
      "cell_type": "code",
      "execution_count": null,
      "metadata": {
        "id": "6Rvj4gey6CT5",
        "outputId": "d8a4a6db-4da7-4227-cede-605f14cb07d0"
      },
      "outputs": [
        {
          "name": "stdout",
          "output_type": "stream",
          "text": [
            "[45.0]\n",
            "[[ 0.7310586]]\n"
          ]
        },
        {
          "data": {
            "image/png": "[encoded data removed]",
            "text/plain": [
              "<matplotlib.figure.Figure at 0x11ad3e390>"
            ]
          },
          "metadata": {},
          "output_type": "display_data"
        },
        {
          "data": {
            "image/png": "[encoded data removed]",
            "text/plain": [
              "<matplotlib.figure.Figure at 0x11ae7b910>"
            ]
          },
          "metadata": {},
          "output_type": "display_data"
        },
        {
          "name": "stdout",
          "output_type": "stream",
          "text": [
            "('predictions', [array([[ 0.59868765]], dtype=float32), array([[ 0.59145898]], dtype=float32), array([[ 0.42800382]], dtype=float32), array([[ 0.48750263]], dtype=float32), array([[ 0.49500021]], dtype=float32), array([[ 0.58419055]], dtype=float32), array([[ 0.56954622]], dtype=float32), array([[ 0.6341356]], dtype=float32), array([[ 0.57688522]], dtype=float32), array([[ 0.50999868]], dtype=float32), array([[ 0.45016602]], dtype=float32)])\n",
            "('Tweet:', \"@VirginAmerica seriously would pay $30 a flight for seats that didn't have this playing.\\nit's really the only bad thing about flying VA\")\n",
            "('Label:', array([ 0.,  0.,  1.]))\n",
            "('Bag of Words Representation:', array([ 0.,  0.,  0., ...,  0.,  0.,  0.]))\n",
            "('Minibatch train loss at step', 0, ':', 430.91733)\n",
            "Minibatch train accuracy: 35.938%\n",
            "Test loss: 344.188\n",
            "Test accuracy: 40.027%\n",
            "('Minibatch train loss at step', 100, ':', 220.52003)\n",
            "Minibatch train accuracy: 54.688%\n",
            "Test loss: 244.641\n",
            "Test accuracy: 46.960%\n",
            "('Minibatch train loss at step', 200, ':', 182.77231)\n",
            "Minibatch train accuracy: 64.844%\n",
            "Test loss: 210.671\n",
            "Test accuracy: 50.239%\n",
            "('Minibatch train loss at step', 300, ':', 182.31335)\n",
            "Minibatch train accuracy: 51.562%\n",
            "Test loss: 199.027\n",
            "Test accuracy: 50.307%\n",
            "('Minibatch train loss at step', 400, ':', 193.7272)\n",
            "Minibatch train accuracy: 44.531%\n",
            "Test loss: 201.066\n",
            "Test accuracy: 47.165%\n",
            "('Minibatch train loss at step', 500, ':', 210.07607)\n",
            "Minibatch train accuracy: 39.062%\n",
            "Test loss: 205.993\n",
            "Test accuracy: 44.775%\n",
            "('Minibatch train loss at step', 600, ':', 202.87286)\n",
            "Minibatch train accuracy: 44.531%\n",
            "Test loss: 182.984\n",
            "Test accuracy: 47.268%\n"
          ]
        }
      ],
      "source": [
        "a = tf.placeholder(tf.float32)\n",
        "b = tf.placeholder(tf.float32)\n",
        "c = tf.add(a, b)\n",
        "d = tf.subtract(b, 1)\n",
        "e = tf.multiply(c, d)\n",
        "\n",
        "with tf.Session() as session:\n",
        "    a_data, b_data = 3.0, 6.0\n",
        "    feed_dict = {a: a_data, b: b_data}\n",
        "    output = session.run([e], feed_dict=feed_dict)\n",
        "    print(output) # 45.0\n",
        "\n",
        "n_input_nodes = 2\n",
        "n_output_nodes = 1\n",
        "x = tf.placeholder(tf.float32, (None, n_input_nodes))\n",
        "W = tf.Variable(tf.ones((n_input_nodes, n_output_nodes)), dtype=tf.float32)\n",
        "b = tf.Variable(tf.zeros(n_output_nodes), dtype=tf.float32)\n",
        "\n",
        "'''TODO: Define the operation for z (use tf.matmul to multiply W and x).'''\n",
        "z = tf.matmul(x, W) + b\n",
        "\n",
        "'''TODO: Define the operation for out (use tf.sigmoid).'''\n",
        "out = tf.sigmoid(z)\n",
        "\n",
        "\n",
        "test_input = [[0.5, 0.5]]\n",
        "with tf.Session() as session:\n",
        "    tf.global_variables_initializer().run(session=session)\n",
        "    feed_dict = {x: test_input}\n",
        "    output = session.run([out], feed_dict=feed_dict)\n",
        "    print(output[0]) # This should output 0.73105. If not, double-check your code above\n",
        "\n",
        "\n",
        "\n",
        "\n",
        "'''TODO: manually optimize weight_values and bias_value to classify points'''\n",
        "\n",
        "# Modify weight_values, bias_value in the above code to adjust the decision boundary\n",
        "# See if you can classify all the points correctly (all markers green)\n",
        "\n",
        "weight_values = np.array([[-0.1], [0.2]]) # TODO change values and re-run\n",
        "bias_value = np.array([[0.5]]) #TODO change values and re-run\n",
        "\n",
        "# A pretty good boundary is made with:\n",
        "weight_values = np.array([[0.03], [0.12]])\n",
        "bias_value = np.array([[-0.5]])\n",
        "\n",
        "x = tf.placeholder(tf.float32, (None, 2), name='x')\n",
        "W = tf.Variable(weight_values, name='W', dtype=tf.float32)\n",
        "b = tf.Variable(bias_value, name='b', dtype=tf.float32)\n",
        "z = tf.matmul(x, W) + b\n",
        "out = tf.sigmoid(z)\n",
        "\n",
        "data = np.array([[2, 7], [1, 7], [3, 1], [3, 3], [4, 3], [4, 6], [6, 5], [7, 7], [7, 5], [2, 4], [2, 2]])\n",
        "y = np.array([1, 1, 0, 0, 0, 1, 1, 1, 1, 0, 0])\n",
        "with tf.Session() as session:\n",
        "    tf.global_variables_initializer().run(session=session)\n",
        "    utils.classify_and_plot(data, y, x, out, session)\n",
        "\n",
        "\n",
        "\n",
        "# load data\n",
        "X, y, index_to_word, sentences = utils.load_sentiment_data_bow()\n",
        "X_train, y_train, X_test, y_test = utils.split_data(X, y)\n",
        "vocab_size = X.shape[1]\n",
        "n_classes = y.shape[1]\n",
        "\n",
        "print(\"Tweet:\", sentences[5])\n",
        "print(\"Label:\", y[5])\n",
        "print(\"Bag of Words Representation:\", X_train[5])\n",
        "\n",
        "data_placeholder = tf.placeholder(tf.float32, shape=(None, vocab_size), name='data_placeholder')\n",
        "\n",
        "'''TODO: Make the labels placeholder.''';\n",
        "labels_placeholder = tf.placeholder(tf.float32, shape=(None, n_classes), name='labels_placeholder')\n",
        "\n",
        "\n",
        "# Define Network Parameters\n",
        "\n",
        "# Here, we can define how many units will be in each hidden layer.\n",
        "n_hidden_units_h0 = 512\n",
        "n_hidden_units_h1 = 256\n",
        "\n",
        "# Weights going from input to first hidden layer.\n",
        "# The first value passed into tf.Variable is initialization of the variable.\n",
        "# We initialize our weights to be sampled from a truncated normal, as this does something\n",
        "# called symmetry breaking and keeps the neural network from getting stuck at the start.\n",
        "# Since the weight matrix multiplies the previous layer to get inputs to the next layer,\n",
        "# its size is prev_layer_size x next_layer_size.\n",
        "h0_weights = tf.Variable(\n",
        "    tf.truncated_normal([vocab_size, n_hidden_units_h0]),\n",
        "    name='h0_weights')\n",
        "h0_biases = tf.Variable(tf.zeros([n_hidden_units_h0]),\n",
        "                     name='h0_biases')\n",
        "\n",
        "'''TODO: Set up variables for the weights going into the second hidden layer.\n",
        "You can check out the tf.Variable API here: https://www.tensorflow.org/api_docs/python/tf/Variable.\n",
        "''';\n",
        "h1_weights = tf.Variable(\n",
        "    tf.truncated_normal([n_hidden_units_h0, n_hidden_units_h1]),\n",
        "    name='h1_weights')\n",
        "h1_biases = tf.Variable(tf.zeros([n_hidden_units_h1]),\n",
        "                     name='h1_biases')\n",
        "\n",
        "# Weights going into the output layer.\n",
        "out_weights = tf.Variable(\n",
        "    tf.truncated_normal([n_hidden_units_h1, n_classes]),\n",
        "    name='out_weights')\n",
        "out_biases = tf.Variable(tf.zeros([n_classes]),\n",
        "                     name='out_biases')\n",
        "\n",
        "# Define Computation Graphs\n",
        "hidden0 = tf.nn.relu(tf.matmul(data_placeholder, h0_weights) + h0_biases)\n",
        "\n",
        "'''TODO: write the computation to get the output of the second hidden layer.''';\n",
        "hidden1 = tf.nn.relu(tf.matmul(hidden0, h1_weights) + h1_biases)\n",
        "\n",
        "logits = tf.matmul(hidden1, out_weights) + out_biases\n",
        "\n",
        "'''TODO: Define the loss.  Use tf.nn.softmax_cross_entropy_with_logits.'''\n",
        "loss = tf.reduce_mean(\n",
        "    tf.nn.softmax_cross_entropy_with_logits(logits=logits, labels=labels_placeholder))\n",
        "learning_rate = 0.0002\n",
        "\n",
        "# Define the optimizer operation.  This is what will take the derivate of the loss\n",
        "# with respect to each of our parameters and try to minimize it.\n",
        "optimizer = tf.train.GradientDescentOptimizer(learning_rate).minimize(loss)\n",
        "prediction = tf.nn.softmax(logits)\n",
        "\n",
        "# Compute the accuracy\n",
        "prediction_is_correct = tf.equal(tf.argmax(logits, 1), tf.argmax(labels_placeholder, 1))\n",
        "accuracy = tf.reduce_mean(tf.cast(prediction_is_correct, tf.float32))\n",
        "\n",
        "num_steps = 3000\n",
        "batch_size = 128\n",
        "\n",
        "with tf.Session() as session:\n",
        "\n",
        "    # this operation initializes all the variables we made earlier.\n",
        "    tf.global_variables_initializer().run()\n",
        "\n",
        "    for step in range(num_steps):\n",
        "        # Generate a minibatch.\n",
        "        offset = (step * batch_size) % (X_train.shape[0] - batch_size)\n",
        "        batch_data = X_train[offset:(offset + batch_size), :]\n",
        "        batch_labels = y_train[offset:(offset + batch_size), :]\n",
        "\n",
        "        # Create a dictionary to pass in the batch data.\n",
        "        feed_dict_train = {data_placeholder: batch_data, labels_placeholder : batch_labels}\n",
        "\n",
        "        # Run the optimizer, the loss, the predictions.\n",
        "        # We can run multiple things at once and get their outputs.\n",
        "        _, loss_value_train, predictions_value_train, accuracy_value_train = session.run(\n",
        "          [optimizer, loss, prediction, accuracy], feed_dict=feed_dict_train)\n",
        "\n",
        "        # Print stuff every once in a while.\n",
        "        if (step % 100 == 0):\n",
        "            print(\"Minibatch train loss at step\", step, \":\", loss_value_train)\n",
        "            print(\"Minibatch train accuracy: %.3f%%\" % (accuracy_value_train*100))\n",
        "            feed_dict_test = {data_placeholder: X_test, labels_placeholder: y_test}\n",
        "            loss_value_test, predictions_value_test, accuracy_value_test = session.run(\n",
        "                [loss, prediction, accuracy], feed_dict=feed_dict_test)\n",
        "            print(\"Test loss: %.3f\" % loss_value_test)\n",
        "            print(\"Test accuracy: %.3f%%\" % (accuracy_value_test*100))"
      ]
    },
    {
      "cell_type": "code",
      "execution_count": null,
      "metadata": {
        "collapsed": true,
        "id": "Ftg9glal6CT6"
      },
      "outputs": [],
      "source": []
    }
  ],
  "metadata": {
    "anaconda-cloud": {},
    "kernelspec": {
      "display_name": "Python [conda root]",
      "language": "python",
      "name": "conda-root-py"
    },
    "language_info": {
      "codemirror_mode": {
        "name": "ipython",
        "version": 2
      },
      "file_extension": ".py",
      "mimetype": "text/x-python",
      "name": "python",
      "nbconvert_exporter": "python",
      "pygments_lexer": "ipython2",
      "version": "2.7.12"
    },
    "name": "_merged",
    "colab": {
      "provenance": []
    }
  },
  "nbformat": 4,
  "nbformat_minor": 0
}